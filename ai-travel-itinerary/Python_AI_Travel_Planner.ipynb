{
  "nbformat": 4,
  "nbformat_minor": 0,
  "metadata": {
    "colab": {
      "provenance": []
    },
    "kernelspec": {
      "name": "python3",
      "display_name": "Python 3"
    },
    "language_info": {
      "name": "python"
    }
  },
  "cells": [
    {
      "cell_type": "code",
      "execution_count": null,
      "metadata": {
        "colab": {
          "base_uri": "https://localhost:8080/",
          "height": 1000
        },
        "id": "m7rq5Ow2kwLz",
        "outputId": "4c227751-dd3f-42c3-da4c-e4b65c1cc746"
      },
      "outputs": [
        {
          "name": "stdout",
          "output_type": "stream",
          "text": [
            "Enter the origin: cordoba\n",
            "Enter the destination: buenos aires\n",
            "Enter the duration in days (enter only a number): 3\n"
          ]
        },
        {
          "output_type": "display_data",
          "data": {
            "text/plain": [
              "\n",
              "\n",
              " \u001b[1;34m Welcome to this AI travel itinerary planner.\u001b[0m  \n",
              "\n",
              "\n"
            ],
            "text/html": [
              "<pre style=\"white-space:pre;overflow-x:auto;line-height:normal;font-family:Menlo,'DejaVu Sans Mono',consolas,'Courier New',monospace\">\n",
              "\n",
              " <span style=\"color: #000080; text-decoration-color: #000080; font-weight: bold\"> Welcome to this AI travel itinerary planner.</span>  \n",
              "\n",
              "\n",
              "</pre>\n"
            ]
          },
          "metadata": {}
        },
        {
          "output_type": "display_data",
          "data": {
            "text/plain": [
              "\n",
              "The temperature in \u001b[1mcordoba \u001b[0m is \u001b[1;36m11\u001b[0m degrees C and it is \u001b[1mfew clouds\u001b[0m\n",
              "\n"
            ],
            "text/html": [
              "<pre style=\"white-space:pre;overflow-x:auto;line-height:normal;font-family:Menlo,'DejaVu Sans Mono',consolas,'Courier New',monospace\">\n",
              "The temperature in <span style=\"font-weight: bold\">cordoba </span> is <span style=\"color: #008080; text-decoration-color: #008080; font-weight: bold\">11</span> degrees C and it is <span style=\"font-weight: bold\">few clouds</span>\n",
              "\n",
              "</pre>\n"
            ]
          },
          "metadata": {}
        },
        {
          "output_type": "display_data",
          "data": {
            "text/plain": [
              "\n",
              "The temperature in \u001b[1mbuenos aires \u001b[0m is \u001b[1;36m13\u001b[0m degrees C and it is \u001b[1mfew clouds\u001b[0m\n",
              "\n"
            ],
            "text/html": [
              "<pre style=\"white-space:pre;overflow-x:auto;line-height:normal;font-family:Menlo,'DejaVu Sans Mono',consolas,'Courier New',monospace\">\n",
              "The temperature in <span style=\"font-weight: bold\">buenos aires </span> is <span style=\"color: #008080; text-decoration-color: #008080; font-weight: bold\">13</span> degrees C and it is <span style=\"font-weight: bold\">few clouds</span>\n",
              "\n",
              "</pre>\n"
            ]
          },
          "metadata": {}
        },
        {
          "output_type": "display_data",
          "data": {
            "text/plain": [
              "\n",
              " Generating itinerary from cordoba to buenos aires\u001b[33m...\u001b[0m⏳\n",
              "\n"
            ],
            "text/html": [
              "<pre style=\"white-space:pre;overflow-x:auto;line-height:normal;font-family:Menlo,'DejaVu Sans Mono',consolas,'Courier New',monospace\">\n",
              " Generating itinerary from cordoba to buenos aires<span style=\"color: #808000; text-decoration-color: #808000\">...</span>⏳\n",
              "\n",
              "</pre>\n"
            ]
          },
          "metadata": {}
        },
        {
          "output_type": "display_data",
          "data": {
            "text/plain": [
              "                              \u001b[1m3-Day Road Trip Itinerary: Córdoba to Buenos Aires 🚗🇦🇷\u001b[0m                              \n",
              "\n",
              "                                 \u001b[1;2mDay 1: Córdoba to Rosario\u001b[0m\u001b[1;2m (Approx. 4 hours drive)\u001b[0m                                 \n",
              "\n",
              "\u001b[1;33m • \u001b[0m\u001b[1mMorning\u001b[0m: Depart Córdoba early to beat traffic.                                                                  \n",
              "\u001b[1;33m • \u001b[0m\u001b[1mLunch Stop\u001b[0m: Arrive in Rosario, enjoy a traditional meal at El Candelario 🍽️.                                     \n",
              "\u001b[1;33m • \u001b[0m\u001b[1mAfternoon\u001b[0m: Visit the National Flag Memorial and enjoy the waterfront parks 🌊.                                  \n",
              "\u001b[1;33m • \u001b[0m\u001b[1mEvening\u001b[0m: Dinner at a local parrilla (steakhouse) 🍖.                                                            \n",
              "\u001b[1;33m • \u001b[0m\u001b[1mAccommodation\u001b[0m: Check into a budget hotel or Airbnb (approx. $50).                                               \n",
              "\n",
              "\u001b[1mEstimated Cost for Day 1\u001b[0m:                                                                                          \n",
              "\n",
              "\u001b[1;33m • \u001b[0mGas: $20                                                                                                        \n",
              "\u001b[1;33m • \u001b[0mMeals: $40                                                                                                      \n",
              "\u001b[1;33m • \u001b[0mAccommodation: $50                                                                                              \n",
              "\u001b[1;33m • \u001b[0m\u001b[1mTotal\u001b[0m: \u001b[1m$110\u001b[0m                                                                                                     \n",
              "\n",
              "\u001b[33m───────────────────────────────────────────────────────────────────────────────────────────────────────────────────\u001b[0m\n",
              "                              \u001b[1;2mDay 2: Rosario to Buenos Aires\u001b[0m\u001b[1;2m (Approx. 3 hours drive)\u001b[0m                               \n",
              "\n",
              "\u001b[1;33m • \u001b[0m\u001b[1mMorning\u001b[0m: Breakfast at your hotel ☕.                                                                            \n",
              "\u001b[1;33m • \u001b[0m\u001b[1mDrive\u001b[0m: Head to Buenos Aires, leaving by 9 AM.                                                                   \n",
              "\u001b[1;33m • \u001b[0m\u001b[1mLunch\u001b[0m: Arrive in Buenos Aires; grab lunch at Mercado de San Telmo 🍲.                                           \n",
              "\u001b[1;33m • \u001b[0m\u001b[1mAfternoon\u001b[0m: Explore the historic San Telmo neighborhood and visit the street market 🏛️.                           \n",
              "\u001b[1;33m • \u001b[0m\u001b[1mEvening\u001b[0m: Dinner at a tango show venue for an authentic experience 💃.                                           \n",
              "\u001b[1;33m • \u001b[0m\u001b[1mAccommodation\u001b[0m: Stay at a centrally located hotel (approx. $70).                                                 \n",
              "\n",
              "\u001b[1mEstimated Cost for Day 2\u001b[0m:                                                                                          \n",
              "\n",
              "\u001b[1;33m • \u001b[0mGas: $15                                                                                                        \n",
              "\u001b[1;33m • \u001b[0mMeals: $70                                                                                                      \n",
              "\u001b[1;33m • \u001b[0mAccommodation: $70                                                                                              \n",
              "\u001b[1;33m • \u001b[0mShow: $50                                                                                                       \n",
              "\u001b[1;33m • \u001b[0m\u001b[1mTotal\u001b[0m: \u001b[1m$205\u001b[0m                                                                                                     \n",
              "\n",
              "\u001b[33m───────────────────────────────────────────────────────────────────────────────────────────────────────────────────\u001b[0m\n",
              "                                           \u001b[1;2mDay 3: Exploring Buenos Aires\u001b[0m                                           \n",
              "\n",
              "\u001b[1;33m • \u001b[0m\u001b[1mMorning\u001b[0m: Breakfast at a local café ☕. Visit La Boca and Caminito street art.                                   \n",
              "\u001b[1;33m • \u001b[0m\u001b[1mLunch\u001b[0m: Enjoy a meal at a traditional Italian restaurant 🍝.                                                     \n",
              "\u001b[1;33m • \u001b[0m\u001b[1mAfternoon\u001b[0m: Stroll through Palermo parks or visit the MALBA museum 🎨.                                           \n",
              "\u001b[1;33m • \u001b[0m\u001b[1mEvening\u001b[0m: Final dinner in Puerto Madero with a view of the waterfront 🌅.                                        \n",
              "\n",
              "\u001b[1mEstimated Cost for Day 3\u001b[0m:                                                                                          \n",
              "\n",
              "\u001b[1;33m • \u001b[0mMeals: $60                                                                                                      \n",
              "\u001b[1;33m • \u001b[0mActivities: $20 (e.g., museum entry)                                                                            \n",
              "\u001b[1;33m • \u001b[0m\u001b[1mTotal\u001b[0m: \u001b[1m$80\u001b[0m                                                                                                      \n",
              "\n",
              "\u001b[33m───────────────────────────────────────────────────────────────────────────────────────────────────────────────────\u001b[0m\n",
              "                                     \u001b[1mOverall Estimated Cost for the Trip\u001b[0m\u001b[1m: \u001b[0m\u001b[1m$395\u001b[0m                                     \n",
              "\n",
              "Enjoy your road trip filled with stunning landscapes, cultural experiences, and delicious Argentine cuisine! 🍷🌍  \n"
            ],
            "text/html": [
              "<pre style=\"white-space:pre;overflow-x:auto;line-height:normal;font-family:Menlo,'DejaVu Sans Mono',consolas,'Courier New',monospace\">                              <span style=\"font-weight: bold\">3-Day Road Trip Itinerary: Córdoba to Buenos Aires 🚗🇦🇷</span>                              \n",
              "\n",
              "                                 <span style=\"color: #7f7f7f; text-decoration-color: #7f7f7f; font-weight: bold\">Day 1: Córdoba to Rosario (Approx. 4 hours drive)</span>                                 \n",
              "\n",
              "<span style=\"color: #808000; text-decoration-color: #808000; font-weight: bold\"> • </span><span style=\"font-weight: bold\">Morning</span>: Depart Córdoba early to beat traffic.                                                                  \n",
              "<span style=\"color: #808000; text-decoration-color: #808000; font-weight: bold\"> • </span><span style=\"font-weight: bold\">Lunch Stop</span>: Arrive in Rosario, enjoy a traditional meal at El Candelario 🍽️.                                     \n",
              "<span style=\"color: #808000; text-decoration-color: #808000; font-weight: bold\"> • </span><span style=\"font-weight: bold\">Afternoon</span>: Visit the National Flag Memorial and enjoy the waterfront parks 🌊.                                  \n",
              "<span style=\"color: #808000; text-decoration-color: #808000; font-weight: bold\"> • </span><span style=\"font-weight: bold\">Evening</span>: Dinner at a local parrilla (steakhouse) 🍖.                                                            \n",
              "<span style=\"color: #808000; text-decoration-color: #808000; font-weight: bold\"> • </span><span style=\"font-weight: bold\">Accommodation</span>: Check into a budget hotel or Airbnb (approx. $50).                                               \n",
              "\n",
              "<span style=\"font-weight: bold\">Estimated Cost for Day 1</span>:                                                                                          \n",
              "\n",
              "<span style=\"color: #808000; text-decoration-color: #808000; font-weight: bold\"> • </span>Gas: $20                                                                                                        \n",
              "<span style=\"color: #808000; text-decoration-color: #808000; font-weight: bold\"> • </span>Meals: $40                                                                                                      \n",
              "<span style=\"color: #808000; text-decoration-color: #808000; font-weight: bold\"> • </span>Accommodation: $50                                                                                              \n",
              "<span style=\"color: #808000; text-decoration-color: #808000; font-weight: bold\"> • </span><span style=\"font-weight: bold\">Total</span>: <span style=\"font-weight: bold\">$110</span>                                                                                                     \n",
              "\n",
              "<span style=\"color: #808000; text-decoration-color: #808000\">───────────────────────────────────────────────────────────────────────────────────────────────────────────────────</span>\n",
              "                              <span style=\"color: #7f7f7f; text-decoration-color: #7f7f7f; font-weight: bold\">Day 2: Rosario to Buenos Aires (Approx. 3 hours drive)</span>                               \n",
              "\n",
              "<span style=\"color: #808000; text-decoration-color: #808000; font-weight: bold\"> • </span><span style=\"font-weight: bold\">Morning</span>: Breakfast at your hotel ☕.                                                                            \n",
              "<span style=\"color: #808000; text-decoration-color: #808000; font-weight: bold\"> • </span><span style=\"font-weight: bold\">Drive</span>: Head to Buenos Aires, leaving by 9 AM.                                                                   \n",
              "<span style=\"color: #808000; text-decoration-color: #808000; font-weight: bold\"> • </span><span style=\"font-weight: bold\">Lunch</span>: Arrive in Buenos Aires; grab lunch at Mercado de San Telmo 🍲.                                           \n",
              "<span style=\"color: #808000; text-decoration-color: #808000; font-weight: bold\"> • </span><span style=\"font-weight: bold\">Afternoon</span>: Explore the historic San Telmo neighborhood and visit the street market 🏛️.                           \n",
              "<span style=\"color: #808000; text-decoration-color: #808000; font-weight: bold\"> • </span><span style=\"font-weight: bold\">Evening</span>: Dinner at a tango show venue for an authentic experience 💃.                                           \n",
              "<span style=\"color: #808000; text-decoration-color: #808000; font-weight: bold\"> • </span><span style=\"font-weight: bold\">Accommodation</span>: Stay at a centrally located hotel (approx. $70).                                                 \n",
              "\n",
              "<span style=\"font-weight: bold\">Estimated Cost for Day 2</span>:                                                                                          \n",
              "\n",
              "<span style=\"color: #808000; text-decoration-color: #808000; font-weight: bold\"> • </span>Gas: $15                                                                                                        \n",
              "<span style=\"color: #808000; text-decoration-color: #808000; font-weight: bold\"> • </span>Meals: $70                                                                                                      \n",
              "<span style=\"color: #808000; text-decoration-color: #808000; font-weight: bold\"> • </span>Accommodation: $70                                                                                              \n",
              "<span style=\"color: #808000; text-decoration-color: #808000; font-weight: bold\"> • </span>Show: $50                                                                                                       \n",
              "<span style=\"color: #808000; text-decoration-color: #808000; font-weight: bold\"> • </span><span style=\"font-weight: bold\">Total</span>: <span style=\"font-weight: bold\">$205</span>                                                                                                     \n",
              "\n",
              "<span style=\"color: #808000; text-decoration-color: #808000\">───────────────────────────────────────────────────────────────────────────────────────────────────────────────────</span>\n",
              "                                           <span style=\"color: #7f7f7f; text-decoration-color: #7f7f7f; font-weight: bold\">Day 3: Exploring Buenos Aires</span>                                           \n",
              "\n",
              "<span style=\"color: #808000; text-decoration-color: #808000; font-weight: bold\"> • </span><span style=\"font-weight: bold\">Morning</span>: Breakfast at a local café ☕. Visit La Boca and Caminito street art.                                   \n",
              "<span style=\"color: #808000; text-decoration-color: #808000; font-weight: bold\"> • </span><span style=\"font-weight: bold\">Lunch</span>: Enjoy a meal at a traditional Italian restaurant 🍝.                                                     \n",
              "<span style=\"color: #808000; text-decoration-color: #808000; font-weight: bold\"> • </span><span style=\"font-weight: bold\">Afternoon</span>: Stroll through Palermo parks or visit the MALBA museum 🎨.                                           \n",
              "<span style=\"color: #808000; text-decoration-color: #808000; font-weight: bold\"> • </span><span style=\"font-weight: bold\">Evening</span>: Final dinner in Puerto Madero with a view of the waterfront 🌅.                                        \n",
              "\n",
              "<span style=\"font-weight: bold\">Estimated Cost for Day 3</span>:                                                                                          \n",
              "\n",
              "<span style=\"color: #808000; text-decoration-color: #808000; font-weight: bold\"> • </span>Meals: $60                                                                                                      \n",
              "<span style=\"color: #808000; text-decoration-color: #808000; font-weight: bold\"> • </span>Activities: $20 (e.g., museum entry)                                                                            \n",
              "<span style=\"color: #808000; text-decoration-color: #808000; font-weight: bold\"> • </span><span style=\"font-weight: bold\">Total</span>: <span style=\"font-weight: bold\">$80</span>                                                                                                      \n",
              "\n",
              "<span style=\"color: #808000; text-decoration-color: #808000\">───────────────────────────────────────────────────────────────────────────────────────────────────────────────────</span>\n",
              "                                     <span style=\"font-weight: bold\">Overall Estimated Cost for the Trip: $395</span>                                     \n",
              "\n",
              "Enjoy your road trip filled with stunning landscapes, cultural experiences, and delicious Argentine cuisine! 🍷🌍  \n",
              "</pre>\n"
            ]
          },
          "metadata": {}
        },
        {
          "output_type": "display_data",
          "data": {
            "text/plain": [
              "\n",
              "\n",
              " \u001b[1;34m This AI travel itinerary planner was coded in Python by Stella Bullo with SheCodes \u001b[0m \n",
              "\n",
              "\n"
            ],
            "text/html": [
              "<pre style=\"white-space:pre;overflow-x:auto;line-height:normal;font-family:Menlo,'DejaVu Sans Mono',consolas,'Courier New',monospace\">\n",
              "\n",
              " <span style=\"color: #000080; text-decoration-color: #000080; font-weight: bold\"> This AI travel itinerary planner was coded in Python by Stella Bullo with SheCodes </span> \n",
              "\n",
              "\n",
              "</pre>\n"
            ]
          },
          "metadata": {}
        }
      ],
      "source": [
        "import requests\n",
        "from rich import print\n",
        "from rich.markdown import Markdown\n",
        "\n",
        "\n",
        "# generate weather function in origin and destination\n",
        "def generate_weather(location):\n",
        " api_key = \"b4697434f3a4b96oc63c0bff5tca4166\"\n",
        " api_url = f\"https://api.shecodes.io/weather/v1/current?query={location}&key={api_key}&units=metric\"\n",
        "\n",
        "# *** call weather api ***\n",
        " response = requests.get(api_url)\n",
        " response_data = response.json()\n",
        " temperature = round(response_data[\"temperature\"] [\"current\"])\n",
        " condition = response_data[\"condition\"][\"description\"]\n",
        "\n",
        " print(f\"\\nThe temperature in [bold]{location} [/bold] is [bold]{temperature}[/bold] degrees C and it is [bold]{condition}[/bold]\\n\" )\n",
        "\n",
        "\n",
        "# generate itinerary function\n",
        "def generate_itinerary(origin, destination, duration):\n",
        "  print(f\"\\n Generating itinerary from {origin} to {destination}...⏳\\n\")\n",
        "\n",
        "# call the shecodes AI API to get the itinerary\n",
        "  prompt = f\"Generate a travel itinerary from {origin} to {destination} in {duration} days. This is a road trip, keep it to max 15 lines, add bulletpoints, add estimated cost for each day and emojis to make it more readable\"\n",
        "  context = \"act as a travel expert who plans travel itineraries worldwide\"\n",
        "  api_key = \"b4697434f3a4b96oc63c0bff5tca4166\"\n",
        "  api_url = f\"https://api.shecodes.io/ai/v1/generate?prompt={prompt}&context={context}&key={api_key}\"\n",
        "\n",
        "  response = requests.get(api_url)\n",
        "  response_data = response.json()\n",
        "\n",
        "  itinerary = Markdown(response_data[\"answer\"])\n",
        "\n",
        "  print(itinerary)\n",
        "\n",
        "# welcome user function\n",
        "def welcome_user():\n",
        "  print(f\"\\n\\n [bold blue] Welcome to this AI travel itinerary planner.[/bold blue]  \\n\\n\")\n",
        "\n",
        "# credits function\n",
        "def closing_credits():\n",
        "  print(f\"\\n\\n [bold blue] This AI travel itinerary planner was coded in Python by Stella Bullo with SheCodes [/bold blue] \\n\\n\")\n",
        "\n",
        "# get user input: origin, destination, duration\n",
        "origin = input(\"Enter the origin: \")\n",
        "destination = input(\"Enter the destination: \")\n",
        "duration = input(\"Enter the duration in days (enter only a number): \")\n",
        "\n",
        "# display itinerary, weather in origin and destination\n",
        "if origin and destination and duration.isdigit():\n",
        "  welcome_user()\n",
        "  generate_weather(origin)\n",
        "  generate_weather(destination)\n",
        "  generate_itinerary(origin, destination, duration)\n",
        "  closing_credits()\n",
        "\n",
        "else:\n",
        "  print(\"Please enter all fields\")\n",
        "\n",
        "# final formatting, credits, etc.\n",
        "\n"
      ]
    }
  ]
}